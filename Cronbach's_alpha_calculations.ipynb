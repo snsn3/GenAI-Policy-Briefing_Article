{
  "nbformat": 4,
  "nbformat_minor": 0,
  "metadata": {
    "colab": {
      "provenance": [],
      "authorship_tag": "ABX9TyPdQzRdUTE6UEB7MMiRISMj"
    },
    "kernelspec": {
      "name": "python3",
      "display_name": "Python 3"
    },
    "language_info": {
      "name": "python"
    }
  },
  "cells": [
    {
      "cell_type": "markdown",
      "source": [
        "# Explanations\n",
        "This code is part of the article: https://link.springer.com/article/10.1007/s00146-024-02103-x. The code was used to calculate Cronback's alpha coefficients in the article. The article is authored by: Stany Nzobonimpa, Jean-François Savard, Isabelle Caron & Justin Lawarée."
      ],
      "metadata": {
        "id": "AKHRLfmM2NyA"
      }
    },
    {
      "cell_type": "code",
      "execution_count": null,
      "metadata": {
        "colab": {
          "base_uri": "https://localhost:8080/"
        },
        "id": "4VzQtxcjok6P",
        "outputId": "4f73ccea-8c41-4b04-f271-7e12454fa340"
      },
      "outputs": [
        {
          "output_type": "stream",
          "name": "stdout",
          "text": [
            "9\n",
            "Communication    0.250000\n",
            "Purpose          0.250000\n",
            "Variety          0.250000\n",
            "Conciseness      0.000000\n",
            "Readability      0.666667\n",
            "Brevity          0.250000\n",
            "Clarity          0.666667\n",
            "Tone             1.583333\n",
            "Language         0.333333\n",
            "dtype: float64\n",
            "0    36\n",
            "1    40\n",
            "2    36\n",
            "3    33\n",
            "dtype: int64\n",
            "8.25\n",
            "0.5454545454545454\n"
          ]
        },
        {
          "output_type": "stream",
          "name": "stderr",
          "text": [
            "<ipython-input-15-1c0f1903c5f6>:22: FutureWarning: DataFrame.applymap has been deprecated. Use DataFrame.map instead.\n",
            "  data = data.applymap(lambda x: x.strip() if isinstance(x, str) else x)\n"
          ]
        }
      ],
      "source": [
        "'''\n",
        "Calculating Cronbach's alpha coefficient for the alpha dimension\n",
        "'''\n",
        "\n",
        "import pandas as pd\n",
        "\n",
        "# Load the csv file: this is the original file with responses from experts\n",
        "file_path = 'expert_evaluation.csv'\n",
        "data = pd.read_csv(file_path)\n",
        "\n",
        "# Rename columns to remove extra characters and ensure compatibility\n",
        "data.columns = [\n",
        "    \"Respondent\",\n",
        "    \"Communication\",\n",
        "    \"Purpose\",\n",
        "    \"Variety\",\n",
        "    \"Conciseness\",\n",
        "    \"Readability\",\n",
        "    \"Brevity\",\n",
        "    \"Clarity\",\n",
        "    \"Tone\",\n",
        "    \"Language\"\n",
        "]\n",
        "\n",
        "# Remove any whitespace chars.\n",
        "data = data.applymap(lambda x: x.strip() if isinstance(x, str) else x)\n",
        "\n",
        "# Drop the Respondent column as it is not needed for the calculation of the coeff.\n",
        "scores = data.drop(columns=[\"Respondent\"])\n",
        "\n",
        "# Calculate Cronbach's alpha\n",
        "k = scores.shape[1]  # Number of items\n",
        "item_variances = scores.var(axis=0, ddof=1)  # Variance of each item\n",
        "total_scores = scores.sum(axis=1)  # Total score for each respondent\n",
        "total_variance = total_scores.var(ddof=1)  # Variance of the total scores\n",
        "\n",
        "cronbach_alpha = (k / (k - 1)) * (1 - (item_variances.sum() / total_variance))\n",
        "\n",
        "# Display results\n",
        "print (k)\n",
        "print (item_variances)\n",
        "print (total_scores)\n",
        "print (total_variance)\n",
        "print (cronbach_alpha)\n"
      ]
    },
    {
      "cell_type": "code",
      "source": [
        "'''\n",
        "Calculating Cronbach's alpha coefficient for the beta dimension\n",
        "'''\n",
        "import pandas as pd\n",
        "\n",
        "# Load the csv file: this is the original file with responses from experts\n",
        "file_path = 'expert_evaluation.csv'\n",
        "data = pd.read_excel(file_path)\n",
        "\n",
        "# Rename columns to remove extra characters and ensure compatibility\n",
        "data.columns = [\n",
        "    \"Respondent\",\n",
        "    \"Information\",\n",
        "    \"Suficiency\",\n",
        "    \"Research\",\n",
        "    \"Objectives\",\n",
        "    \"Decision\"\n",
        "]\n",
        "\n",
        "# Remove any leading/trailing whitespace characters\n",
        "data = data.applymap(lambda x: x.strip() if isinstance(x, str) else x)\n",
        "\n",
        "# Drop the Respondent column as it is not needed for the calculation\n",
        "scores = data.drop(columns=[\"Respondent\"])\n",
        "\n",
        "# Calculate Cronbach's alpha\n",
        "k = scores.shape[1]  # Number of items\n",
        "item_variances = scores.var(axis=0, ddof=1)  # Variance of each item\n",
        "total_scores = scores.sum(axis=1)  # Total score for each respondent\n",
        "total_variance = total_scores.var(ddof=1)  # Variance of the total scores\n",
        "\n",
        "cronbach_alpha = (k / (k - 1)) * (1 - (item_variances.sum() / total_variance))\n",
        "\n",
        "# Display results\n",
        "print (k)\n",
        "print (item_variances)\n",
        "print (total_scores)\n",
        "print (total_variance)\n",
        "print (cronbach_alpha)"
      ],
      "metadata": {
        "colab": {
          "base_uri": "https://localhost:8080/"
        },
        "id": "YriSqwnypETQ",
        "outputId": "032a7552-4247-4db8-dad9-f3c9b494e2c3"
      },
      "execution_count": null,
      "outputs": [
        {
          "output_type": "stream",
          "name": "stdout",
          "text": [
            "5\n",
            "Information    1.666667\n",
            "Suficiency     2.666667\n",
            "Research       0.916667\n",
            "Objectives     0.916667\n",
            "Decision       2.000000\n",
            "dtype: float64\n",
            "0    14\n",
            "1    20\n",
            "2    10\n",
            "3    18\n",
            "dtype: int64\n",
            "19.666666666666668\n",
            "0.7309322033898304\n"
          ]
        },
        {
          "output_type": "stream",
          "name": "stderr",
          "text": [
            "<ipython-input-14-930256e49219>:18: FutureWarning: DataFrame.applymap has been deprecated. Use DataFrame.map instead.\n",
            "  data = data.applymap(lambda x: x.strip() if isinstance(x, str) else x)\n"
          ]
        }
      ]
    },
    {
      "cell_type": "code",
      "source": [
        "'''\n",
        "Calculating Cronbach's alpha coefficient for both alpha and beta dimensions\n",
        "'''\n",
        "\n",
        "import pandas as pd\n",
        "\n",
        "# Load the csv file: this is the original file with responses from experts\n",
        "file_path = 'expert_evaluation.csv'\n",
        "data = pd.read_excel(file_path)\n",
        "\n",
        "# Rename columns to remove extra characters and ensure compatibility\n",
        "data.columns = [\n",
        "    \"Respondent\",\n",
        "    \"Communication\",\n",
        "    \"Purpose\",\n",
        "    \"Variety\",\n",
        "    \"Conciseness\",\n",
        "    \"Readability\",\n",
        "    \"Brevity\",\n",
        "    \"Clarity\",\n",
        "    \"Tone\",\n",
        "    \"Language\",\n",
        "    \"Information\",\n",
        "    \"Suficiency\",\n",
        "    \"Research\",\n",
        "    \"Objectives\",\n",
        "    \"Decision\"\n",
        "]\n",
        "\n",
        "# Remove any leading/trailing whitespace characters\n",
        "data = data.applymap(lambda x: x.strip() if isinstance(x, str) else x)\n",
        "\n",
        "# Drop the Respondent column as it is not needed for the calculation\n",
        "scores = data.drop(columns=[\"Respondent\"])\n",
        "\n",
        "# Calculate Cronbach's alpha\n",
        "k = scores.shape[1]  # Number of items\n",
        "item_variances = scores.var(axis=0, ddof=1)  # Variance of each item\n",
        "total_scores = scores.sum(axis=1)  # Total score for each respondent\n",
        "total_variance = total_scores.var(ddof=1)  # Variance of the total scores\n",
        "\n",
        "cronbach_alpha = (k / (k - 1)) * (1 - (item_variances.sum() / total_variance))\n",
        "data.to_csv('data.csv', index=False)\n",
        "\n",
        "# Display results\n",
        "print (k)\n",
        "print (item_variances)\n",
        "print (total_scores)\n",
        "print (total_variance)\n",
        "print (cronbach_alpha)"
      ],
      "metadata": {
        "colab": {
          "base_uri": "https://localhost:8080/"
        },
        "id": "Q41UxtQT1hGI",
        "outputId": "20c651cc-6bd6-4b38-89b1-2ea94a3fea6c"
      },
      "execution_count": null,
      "outputs": [
        {
          "output_type": "stream",
          "name": "stdout",
          "text": [
            "14\n",
            "Communication    0.250000\n",
            "Purpose          0.250000\n",
            "Variety          0.250000\n",
            "Conciseness      0.000000\n",
            "Readability      0.666667\n",
            "Brevity          0.250000\n",
            "Clarity          0.666667\n",
            "Tone             1.583333\n",
            "Language         0.333333\n",
            "Information      1.666667\n",
            "Suficiency       2.666667\n",
            "Research         0.916667\n",
            "Objectives       0.916667\n",
            "Decision         2.000000\n",
            "dtype: float64\n",
            "0    50\n",
            "1    60\n",
            "2    46\n",
            "3    51\n",
            "dtype: int64\n",
            "34.916666666666664\n",
            "0.6939599779695246\n"
          ]
        },
        {
          "output_type": "stream",
          "name": "stderr",
          "text": [
            "<ipython-input-20-e8915fcdba21>:27: FutureWarning: DataFrame.applymap has been deprecated. Use DataFrame.map instead.\n",
            "  data = data.applymap(lambda x: x.strip() if isinstance(x, str) else x)\n"
          ]
        }
      ]
    }
  ]
}